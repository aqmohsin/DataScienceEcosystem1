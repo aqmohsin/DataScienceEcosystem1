{
  "metadata": {
    "kernelspec": {
      "name": "python",
      "display_name": "Python (Pyodide)",
      "language": "python"
    },
    "language_info": {
      "codemirror_mode": {
        "name": "python",
        "version": 3
      },
      "file_extension": ".py",
      "mimetype": "text/x-python",
      "name": "python",
      "nbconvert_exporter": "python",
      "pygments_lexer": "ipython3",
      "version": "3.8"
    }
  },
  "nbformat_minor": 5,
  "nbformat": 4,
  "cells": [
    {
      "id": "373cbb46-eb7b-43b3-b1e3-dac985469c0c",
      "cell_type": "markdown",
      "source": "# Data Science Tools and Ecosystem",
      "metadata": {}
    },
    {
      "id": "4c0c2717-614b-40e5-ab5c-0de547c2c6dd",
      "cell_type": "markdown",
      "source": "In this notebook, Data Science Tools and Ecosystem are summarized.",
      "metadata": {}
    },
    {
      "id": "66f06f2a-f1b9-4f39-9e24-b2c237a80acc",
      "cell_type": "markdown",
      "source": "Some of the popular languages that Data Scientists use are:\n\n1.  Python\n2.  R\n3.  SQL\n4.  Java\n5.  Scala\n6.  Julia\n7.  MATLAB\n",
      "metadata": {}
    },
    {
      "id": "0ff41559-7cba-4428-96aa-8ae0f320766d",
      "cell_type": "markdown",
      "source": "Some of the commonly used libraries used by Data Scientists include:\n\n1.  NumPy\n2.  Pandas\n3.  Scikit-learn\n4.  Matplotlib\n5.  Seaborn\n6.  TensorFlow\n7.  PyTorch",
      "metadata": {}
    },
    {
      "id": "388a8dbe-63bf-420f-b533-f2843e67567b",
      "cell_type": "markdown",
      "source": "| Data Science Tools |\n|--------------------|\n| Jupyter Notebooks   |\n| RStudio            |\n| Apache Spark       |\n",
      "metadata": {}
    },
    {
      "id": "eb38d6e0-6710-4eb8-91a8-fb31a94d818c",
      "cell_type": "markdown",
      "source": "### Below are a few examples of evaluating arithmetic expressions in Python.\n",
      "metadata": {}
    },
    {
      "id": "f0a45556-a872-40cf-b6e8-17efc079000f",
      "cell_type": "code",
      "source": "# This is a simple arithmetic expression to multiply then add integers.\n(3*4)+5\n",
      "metadata": {
        "trusted": true
      },
      "outputs": [
        {
          "execution_count": 3,
          "output_type": "execute_result",
          "data": {
            "text/plain": "17"
          },
          "metadata": {}
        }
      ],
      "execution_count": 3
    },
    {
      "id": "18a9f882-827b-490b-bd57-ab09ac8f283a",
      "cell_type": "code",
      "source": "# This will convert 200 minutes to hours by dividing by 60.\n200 / 60\n",
      "metadata": {
        "trusted": true
      },
      "outputs": [
        {
          "execution_count": 4,
          "output_type": "execute_result",
          "data": {
            "text/plain": "3.3333333333333335"
          },
          "metadata": {}
        }
      ],
      "execution_count": 4
    },
    {
      "id": "231d2b62-1b41-4174-9c9d-9b58f46a9148",
      "cell_type": "markdown",
      "source": "**Objectives:**\n\n* List popular languages for Data Science\n* List commonly used libraries in Data Science\n* List Data Science Tools\n* Give examples of evaluating arithmetic expressions in Python\n* Give examples of converting minutes to hours in Python\n",
      "metadata": {}
    },
    {
      "id": "fe80f737-e0f5-4abd-a9ff-a472bd177206",
      "cell_type": "markdown",
      "source": "## Author\nAbdul Qahhar Mohsin\n",
      "metadata": {}
    },
    {
      "id": "1c2acdfe-0038-4a84-a8aa-bb24613a4ab1",
      "cell_type": "code",
      "source": "",
      "metadata": {
        "trusted": true
      },
      "outputs": [],
      "execution_count": null
    }
  ]
}